{
 "cells": [
  {
   "cell_type": "code",
   "execution_count": 27,
   "id": "afec73a0-d5eb-4523-be77-ab5b52dcfdcf",
   "metadata": {},
   "outputs": [],
   "source": [
    "import numpy as np\n",
    "\n",
    "min_loop_length = 1"
   ]
  },
  {
   "cell_type": "code",
   "execution_count": 28,
   "id": "8a036d60-1b9b-4869-88a5-37ce280d25b9",
   "metadata": {},
   "outputs": [
    {
     "name": "stdout",
     "output_type": "stream",
     "text": [
      "Dot-Bracket Notation: ((.()))\n",
      "Paired Bases: [(0, 6), (1, 5), (3, 4)]\n"
     ]
    }
   ],
   "source": [
    "def nussinov_table(seq, gamma, min_loop_length=0):\n",
    "    N = len(seq)\n",
    "    table = [[0 for _ in range(N)] for _ in range(N)]\n",
    "    for diff in range(1, N):  # Start from 1 to include zero loop length\n",
    "        for i in range(N - diff):\n",
    "            j = i + diff\n",
    "            if j - i - 1 < min_loop_length:  # Enforcing the minimum loop length\n",
    "                continue\n",
    "            opt = -1\n",
    "            if pair_check((seq[i], seq[j])):\n",
    "                opt = table[i+1][j-1] + 1\n",
    "            opt = max(opt, table[i+1][j], table[i][j-1])\n",
    "            for k in range(i + 1, j):\n",
    "                opt = max(opt, table[i][k] + table[k+1][j])\n",
    "            table[i][j] = opt\n",
    "    return table\n",
    "\n",
    "def traceback(seq, table):\n",
    "    i, j = 0, len(seq) - 1\n",
    "    stack = [(i, j)]\n",
    "    structure = []\n",
    "    while stack:\n",
    "        i, j = stack.pop()\n",
    "        if i < j:\n",
    "            if table[i+1][j] == table[i][j]:\n",
    "                stack.append((i+1, j))\n",
    "            elif table[i][j-1] == table[i][j]:\n",
    "                stack.append((i, j-1))\n",
    "            elif pair_check((seq[i], seq[j])) and table[i+1][j-1] + 1 == table[i][j]:\n",
    "                structure.append((i, j))\n",
    "                stack.append((i+1, j-1))\n",
    "            else:\n",
    "                for k in range(i + 1, j):\n",
    "                    if table[i][k] + table[k+1][j] == table[i][j]:\n",
    "                        stack.append((i, k))\n",
    "                        stack.append((k+1, j))\n",
    "                        break\n",
    "    return structure\n",
    "\n",
    "def write_structure(sequence, structure):\n",
    "    dot_bracket = [\".\" for _ in range(len(sequence))]\n",
    "    for s in structure:\n",
    "        dot_bracket[min(s)] = \"(\"\n",
    "        dot_bracket[max(s)] = \")\"\n",
    "    return \"\".join(dot_bracket)\n",
    "\n",
    "def nussinov(sequence, min_loop_length=0):\n",
    "    gamma = {('A', 'U'), ('U', 'A'), ('C', 'G'), ('G', 'C')}\n",
    "    table = nussinov_table(sequence, gamma, min_loop_length)\n",
    "    structure = traceback(sequence, table)\n",
    "    return write_structure(sequence, structure), structure\n",
    "\n",
    "# Example usage\n",
    "sequence = \"GCAUAGC\"\n",
    "structure, pairs = nussinov(sequence)\n",
    "print(f\"Dot-Bracket Notation: {structure}\")\n",
    "print(f\"Paired Bases: {pairs}\")"
   ]
  },
  {
   "cell_type": "code",
   "execution_count": 13,
   "id": "c469a290-6ec7-41ff-84b3-21398195858b",
   "metadata": {},
   "outputs": [],
   "source": []
  },
  {
   "cell_type": "code",
   "execution_count": 31,
   "id": "1d119488-e4d0-4c92-8db4-66ab827bf368",
   "metadata": {},
   "outputs": [
    {
     "name": "stdout",
     "output_type": "stream",
     "text": [
      "seq1 - Sequence: CGCGAAUUAGCGCGCGAAUUAGCG\n",
      "Result: ()()..(()((())).)()()().\n",
      "\n",
      "seq2 - Sequence: GGCGUAAGGAUUACCUAUGCC\n",
      "Result: .(()()(((()())))()())\n",
      "\n",
      "seq3 - Sequence: GGCCAGAUUGAGCCUGGGAGCUCUCUGGCC\n",
      "Result: .(((((()(.)()))))((())(.(.))))\n",
      "\n",
      "seq4 - Sequence: GGGAAAUCC\n",
      "Result: .((..()))\n",
      "\n"
     ]
    }
   ],
   "source": [
    "\n",
    "def test_nussinov():\n",
    "    test_sequences = {\n",
    "        \"seq1\": {\n",
    "            \"sequence\": \"CGCGAAUUAGCGCGCGAAUUAGCG\",\n",
    "            \"expected\": \"(((((((((((())))))))))))\"\n",
    "        },\n",
    "        \"seq2\": {\n",
    "            \"sequence\": \"GGCGUAAGGAUUACCUAUGCC\",\n",
    "            \"expected\": \"(((((.(((....))))))))\"\n",
    "        },\n",
    "        \"seq3\": {\n",
    "            \"sequence\": \"GGCCAGAUUGAGCCUGGGAGCUCUCUGGCC\",\n",
    "            \"expected\": \"(((((((..((((......)))))))))))\"\n",
    "        },\n",
    "        \"seq4\": {\n",
    "            \"sequence\": \"GGGAAAUCC\",\n",
    "            \"expected\": \".((.(.)))\"\n",
    "        }\n",
    "    }\n",
    "\n",
    "    for key, value in test_sequences.items():\n",
    "        sequence = value[\"sequence\"]\n",
    "        expected = value[\"expected\"]\n",
    "        result, pairs = nussinov(sequence)\n",
    "        print(f\"{key} - Sequence: {sequence}\")\n",
    "        print(f\"Result: {result}\")\n",
    "      \n",
    "        print()\n",
    "\n",
    "# Execute the test function\n",
    "test_nussinov()\n"
   ]
  },
  {
   "cell_type": "code",
   "execution_count": null,
   "id": "b564e638-6edb-4d9b-81db-388e7e7716d6",
   "metadata": {},
   "outputs": [],
   "source": []
  }
 ],
 "metadata": {
  "kernelspec": {
   "display_name": "Python 3 (ipykernel)",
   "language": "python",
   "name": "python3"
  },
  "language_info": {
   "codemirror_mode": {
    "name": "ipython",
    "version": 3
   },
   "file_extension": ".py",
   "mimetype": "text/x-python",
   "name": "python",
   "nbconvert_exporter": "python",
   "pygments_lexer": "ipython3",
   "version": "3.9.5"
  }
 },
 "nbformat": 4,
 "nbformat_minor": 5
}
